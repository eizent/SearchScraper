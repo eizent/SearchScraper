{
  "nbformat": 4,
  "nbformat_minor": 0,
  "metadata": {
    "colab": {
      "provenance": []
    },
    "kernelspec": {
      "name": "python3",
      "display_name": "Python 3"
    },
    "language_info": {
      "name": "python"
    }
  },
  "cells": [
    {
      "cell_type": "code",
      "execution_count": null,
      "metadata": {
        "id": "uMQ-8N9T9neJ"
      },
      "outputs": [],
      "source": [
        "import pandas as pd\n",
        "import nltk\n",
        "from nltk.tokenize import word_tokenize\n",
        "from google.colab import files"
      ]
    },
    {
      "cell_type": "code",
      "source": [
        "uploaded = files.upload()"
      ],
      "metadata": {
        "colab": {
          "base_uri": "https://localhost:8080/",
          "height": 73
        },
        "id": "sGvX_DyW9uOS",
        "outputId": "7daf2a67-e9c6-4b2e-9867-f6b1b3894103"
      },
      "execution_count": null,
      "outputs": [
        {
          "output_type": "display_data",
          "data": {
            "text/plain": [
              "<IPython.core.display.HTML object>"
            ],
            "text/html": [
              "\n",
              "     <input type=\"file\" id=\"files-8b9f9427-af99-4f25-a9aa-42ec221838f8\" name=\"files[]\" multiple disabled\n",
              "        style=\"border:none\" />\n",
              "     <output id=\"result-8b9f9427-af99-4f25-a9aa-42ec221838f8\">\n",
              "      Upload widget is only available when the cell has been executed in the\n",
              "      current browser session. Please rerun this cell to enable.\n",
              "      </output>\n",
              "      <script>// Copyright 2017 Google LLC\n",
              "//\n",
              "// Licensed under the Apache License, Version 2.0 (the \"License\");\n",
              "// you may not use this file except in compliance with the License.\n",
              "// You may obtain a copy of the License at\n",
              "//\n",
              "//      http://www.apache.org/licenses/LICENSE-2.0\n",
              "//\n",
              "// Unless required by applicable law or agreed to in writing, software\n",
              "// distributed under the License is distributed on an \"AS IS\" BASIS,\n",
              "// WITHOUT WARRANTIES OR CONDITIONS OF ANY KIND, either express or implied.\n",
              "// See the License for the specific language governing permissions and\n",
              "// limitations under the License.\n",
              "\n",
              "/**\n",
              " * @fileoverview Helpers for google.colab Python module.\n",
              " */\n",
              "(function(scope) {\n",
              "function span(text, styleAttributes = {}) {\n",
              "  const element = document.createElement('span');\n",
              "  element.textContent = text;\n",
              "  for (const key of Object.keys(styleAttributes)) {\n",
              "    element.style[key] = styleAttributes[key];\n",
              "  }\n",
              "  return element;\n",
              "}\n",
              "\n",
              "// Max number of bytes which will be uploaded at a time.\n",
              "const MAX_PAYLOAD_SIZE = 100 * 1024;\n",
              "\n",
              "function _uploadFiles(inputId, outputId) {\n",
              "  const steps = uploadFilesStep(inputId, outputId);\n",
              "  const outputElement = document.getElementById(outputId);\n",
              "  // Cache steps on the outputElement to make it available for the next call\n",
              "  // to uploadFilesContinue from Python.\n",
              "  outputElement.steps = steps;\n",
              "\n",
              "  return _uploadFilesContinue(outputId);\n",
              "}\n",
              "\n",
              "// This is roughly an async generator (not supported in the browser yet),\n",
              "// where there are multiple asynchronous steps and the Python side is going\n",
              "// to poll for completion of each step.\n",
              "// This uses a Promise to block the python side on completion of each step,\n",
              "// then passes the result of the previous step as the input to the next step.\n",
              "function _uploadFilesContinue(outputId) {\n",
              "  const outputElement = document.getElementById(outputId);\n",
              "  const steps = outputElement.steps;\n",
              "\n",
              "  const next = steps.next(outputElement.lastPromiseValue);\n",
              "  return Promise.resolve(next.value.promise).then((value) => {\n",
              "    // Cache the last promise value to make it available to the next\n",
              "    // step of the generator.\n",
              "    outputElement.lastPromiseValue = value;\n",
              "    return next.value.response;\n",
              "  });\n",
              "}\n",
              "\n",
              "/**\n",
              " * Generator function which is called between each async step of the upload\n",
              " * process.\n",
              " * @param {string} inputId Element ID of the input file picker element.\n",
              " * @param {string} outputId Element ID of the output display.\n",
              " * @return {!Iterable<!Object>} Iterable of next steps.\n",
              " */\n",
              "function* uploadFilesStep(inputId, outputId) {\n",
              "  const inputElement = document.getElementById(inputId);\n",
              "  inputElement.disabled = false;\n",
              "\n",
              "  const outputElement = document.getElementById(outputId);\n",
              "  outputElement.innerHTML = '';\n",
              "\n",
              "  const pickedPromise = new Promise((resolve) => {\n",
              "    inputElement.addEventListener('change', (e) => {\n",
              "      resolve(e.target.files);\n",
              "    });\n",
              "  });\n",
              "\n",
              "  const cancel = document.createElement('button');\n",
              "  inputElement.parentElement.appendChild(cancel);\n",
              "  cancel.textContent = 'Cancel upload';\n",
              "  const cancelPromise = new Promise((resolve) => {\n",
              "    cancel.onclick = () => {\n",
              "      resolve(null);\n",
              "    };\n",
              "  });\n",
              "\n",
              "  // Wait for the user to pick the files.\n",
              "  const files = yield {\n",
              "    promise: Promise.race([pickedPromise, cancelPromise]),\n",
              "    response: {\n",
              "      action: 'starting',\n",
              "    }\n",
              "  };\n",
              "\n",
              "  cancel.remove();\n",
              "\n",
              "  // Disable the input element since further picks are not allowed.\n",
              "  inputElement.disabled = true;\n",
              "\n",
              "  if (!files) {\n",
              "    return {\n",
              "      response: {\n",
              "        action: 'complete',\n",
              "      }\n",
              "    };\n",
              "  }\n",
              "\n",
              "  for (const file of files) {\n",
              "    const li = document.createElement('li');\n",
              "    li.append(span(file.name, {fontWeight: 'bold'}));\n",
              "    li.append(span(\n",
              "        `(${file.type || 'n/a'}) - ${file.size} bytes, ` +\n",
              "        `last modified: ${\n",
              "            file.lastModifiedDate ? file.lastModifiedDate.toLocaleDateString() :\n",
              "                                    'n/a'} - `));\n",
              "    const percent = span('0% done');\n",
              "    li.appendChild(percent);\n",
              "\n",
              "    outputElement.appendChild(li);\n",
              "\n",
              "    const fileDataPromise = new Promise((resolve) => {\n",
              "      const reader = new FileReader();\n",
              "      reader.onload = (e) => {\n",
              "        resolve(e.target.result);\n",
              "      };\n",
              "      reader.readAsArrayBuffer(file);\n",
              "    });\n",
              "    // Wait for the data to be ready.\n",
              "    let fileData = yield {\n",
              "      promise: fileDataPromise,\n",
              "      response: {\n",
              "        action: 'continue',\n",
              "      }\n",
              "    };\n",
              "\n",
              "    // Use a chunked sending to avoid message size limits. See b/62115660.\n",
              "    let position = 0;\n",
              "    do {\n",
              "      const length = Math.min(fileData.byteLength - position, MAX_PAYLOAD_SIZE);\n",
              "      const chunk = new Uint8Array(fileData, position, length);\n",
              "      position += length;\n",
              "\n",
              "      const base64 = btoa(String.fromCharCode.apply(null, chunk));\n",
              "      yield {\n",
              "        response: {\n",
              "          action: 'append',\n",
              "          file: file.name,\n",
              "          data: base64,\n",
              "        },\n",
              "      };\n",
              "\n",
              "      let percentDone = fileData.byteLength === 0 ?\n",
              "          100 :\n",
              "          Math.round((position / fileData.byteLength) * 100);\n",
              "      percent.textContent = `${percentDone}% done`;\n",
              "\n",
              "    } while (position < fileData.byteLength);\n",
              "  }\n",
              "\n",
              "  // All done.\n",
              "  yield {\n",
              "    response: {\n",
              "      action: 'complete',\n",
              "    }\n",
              "  };\n",
              "}\n",
              "\n",
              "scope.google = scope.google || {};\n",
              "scope.google.colab = scope.google.colab || {};\n",
              "scope.google.colab._files = {\n",
              "  _uploadFiles,\n",
              "  _uploadFilesContinue,\n",
              "};\n",
              "})(self);\n",
              "</script> "
            ]
          },
          "metadata": {}
        },
        {
          "output_type": "stream",
          "name": "stdout",
          "text": [
            "Saving duck_mostlikely.csv to duck_mostlikely.csv\n"
          ]
        }
      ]
    },
    {
      "cell_type": "code",
      "source": [
        "file_name = 'duck_mostlikely.csv'\n",
        "\n",
        "\n",
        "with open(file_name, 'r') as file:\n",
        "\n",
        "    file_contents = file.read()\n",
        "\n",
        "\n",
        "print(file_contents)"
      ],
      "metadata": {
        "colab": {
          "base_uri": "https://localhost:8080/"
        },
        "id": "frrmCOl79yns",
        "outputId": "9a07e839-e612-4b2b-a69a-05fed04fd7c7"
      },
      "execution_count": null,
      "outputs": [
        {
          "output_type": "stream",
          "name": "stdout",
          "text": [
            "\"result #\"\t\"search engine\"\tquery\t\"article title\"\t\"article url\"\t\"article description\"\t\"total nr of results (best guess)\"\n",
            "0\tduckduckgo\t\"who is most likely to win 2024 us election\"\t\"2024 Presidential Election Polls: Biden vs. Trump - 270toWin\"\thttps://www.270towin.com/2024-presidential-election-polls/\t\"Biden % Trump No chart for your state? It will be added when polling is available. * The average includes the most recent poll from each source within the past 30 days, up to a maximum of five. If five polls are found, and there are other qualifying polls on that same calendar date, those will also be included. Related Content\"\t0\n",
            "1\tduckduckgo\t\"who is most likely to win 2024 us election\"\t\"Trump v Biden: who's ahead in the polls? | The Economist\"\thttps://www.economist.com/interactive/us-2024-election\t\"Donald Trump Republican Party 40 45 50 Joe Biden Democratic Party 39 43 47 O n November 5th Americans will elect their next president. The main two candidates will almost certainly be the same as...\"\t0\n",
            "2\tduckduckgo\t\"who is most likely to win 2024 us election\"\t\"President: general election : 2024 Polls | FiveThirtyEight\"\thttps://projects.fivethirtyeight.com/polls/president-general/2024/\t\"Approval polling average Do Americans Have A Favorable Opinion Of Donald Trump? Favorability polling average Poll type State Cycle Sort by date Added Surveyed Polls ending Jan. 31, 2024...\"\t0\n",
            "3\tduckduckgo\t\"who is most likely to win 2024 us election\"\t\"Who will win the 2024 presidential election? | The Week\"\thttps://theweek.com/politics/who-will-win-2024-presidential-election\t\"So if taking into account just the poll results by themselves, which all have margins of error under 4%, it seems that pollsters are predicting Donald Trump to return to the White House in 2024,...\"\t0\n",
            "4\tduckduckgo\t\"who is most likely to win 2024 us election\"\t\"270toWin - 2024 Presidential Election Interactive Map\"\thttps://www.270towin.com/\t\"This isn't a popularity contest™. It will take 270 electoral votes to win the 2024 presidential election. Click states on this interactive map to create your own 2024election forecast. Create a specific match-up by clicking the party and/or names near the electoral vote counter. Use the buttons below the map to share your forecast or embed ...\"\t0\n",
            "5\tduckduckgo\t\"who is most likely to win 2024 us election\"\t\"2024 Election: News, polls and results | CNN Politics\"\thttps://www.cnn.com/election/2024\t\"Democratic Presidential Primary: South Carolina More details All South Carolina results Biden will win South Carolina Democratic primary, CNN projects Black voters stood with Biden in 2020....\"\t0\n",
            "6\tduckduckgo\t\"who is most likely to win 2024 us election\"\t\"2024 Presidential Election Forecast Maps - 270toWin\"\thttps://www.270towin.com/2024-election-forecast-predictions/\t\"Read the analysis &gt;&gt; Cook Political Report 2024 Electoral College Ratings The current electoral college ratings for the 2024 presidential election from Cook Political Report . Use this map as a starting point to create and share your own 2024 presidential election forecast. December 19: Michigan and Nevada move from Leans Democratic to Toss-up.\"\t0\n",
            "7\tduckduckgo\t\"who is most likely to win 2024 us election\"\t\"CNN Poll: Trump narrowly leads Biden in general election rematch\"\thttps://www.cnn.com/2024/02/01/politics/cnn-poll-trump-biden-election-2024/index.html\t\"Haley trails Trump by roughly 50 points when Republican and Republican-leaning independent voters are asked who they would most like to see win the GOP nomination for president in 2024 (70% say ...\"\t0\n",
            "8\tduckduckgo\t\"who is most likely to win 2024 us election\"\t\"2024 Presidential Election Polls: Biden vs. Trump\"\thttps://pro.morningconsult.com/trackers/2024-presidential-election-polling\t\"Key Takeaways. Trump posts record lead over Biden: Trump, the likeliest Republican presidential nominee for 2024, leads Biden by 5 percentage points (45% to 40%) in our latest national tracking survey. That's the largest advantage we have ever measured for Trump in head-to-head polling between the two candidates, going all the way back to 2017.\"\t0\n",
            "9\tduckduckgo\t\"who is most likely to win 2024 us election\"\t\"Poll: 20-point deficit on handling economy highlights Biden's struggles ...\"\thttps://www.nbcnews.com/politics/2024-election/poll-biden-trump-economy-presidential-race-rcna136834\t\"All together, these numbers explain why the poll shows Trump leading Biden by 5 points among registered voters in a hypothetical 2024 general-election matchup, 47% to 42%.\"\t0\n",
            "10\tduckduckgo\t\"who is most likely to win 2024 us election\"\t\"Who Are the 2024 Presidential Election Candidates ... - The New York Times\"\thttps://www.nytimes.com/interactive/2023/us/politics/presidential-candidates-2024.html\t\"Who's Running for President in 2024? and Updated Jan. 21, 2024 Leer en español Democrats Biden Williamson Phillips Republicans Trump Haley Binkley Independent and third-party Kennedy West Stein...\"\t0\n",
            "11\tduckduckgo\t\"who is most likely to win 2024 us election\"\t\"Where does the 2024 election stand one year out? - ABC News\"\thttps://abcnews.go.com/538/2024-election-stand-year/story?id=104619961\t\"According to an average of national 2024 general election polls I've run using 538's current polling average methodology, Biden and former President Donald Trump are currently neck-and-neck among likely voters, with Trump at 42.9 percent and Biden at 42.4 percent.\"\t0\n",
            "12\tduckduckgo\t\"who is most likely to win 2024 us election\"\t\"Election Odds | Who Will Win The Presidency In 2024? - The Lines\"\thttps://www.thelines.com/odds/election/\t\"Former President Donald Trump and incumbent President Joe Biden are the election betting favorites at most sportsbooks to win the Presidency in 2024. Trump has around +150 election odds to again become US President as of today. Biden has around +156 election odds to earn a second term as US President.\"\t0\n",
            "13\tduckduckgo\t\"who is most likely to win 2024 us election\"\t\"President: Republican primary : 2024 Polls | FiveThirtyEight\"\thttps://projects.fivethirtyeight.com/polls/president-primary-r/2024/\t\"The position of the flag indicates whether the organization is partisan. Organizations are considered partisan if they operate on behalf of a candidate, party, campaign committee, PAC, super PAC, hybrid PAC, 501(c)(4), 501(c)(5) or 501(c)(6) organization that conducts a large majority of its ...\"\t0\n",
            "14\tduckduckgo\t\"who is most likely to win 2024 us election\"\t\"Biden trails Trump in 2024 US election's key states, polls show\"\thttps://www.reuters.com/world/us/biden-trails-trump-states-likely-decide-2024-us-election-polls-show-2023-11-05/\t\"THE TAKE While polls assessing the national popular vote have consistently showed Biden and Trump in a close race, presidential elections typically are decided by the outcomes in a handful of...\"\t0\n",
            "15\tduckduckgo\t\"who is most likely to win 2024 us election\"\t\"Who will win the 2024 US presidential election? Latest polls and ...\"\thttps://www.thetimes.co.uk/article/who-win-us-election-president-2024-polls-predictions-trump-biden-7d0ff29db\t\"Who will win the 2024US presidential election? Latest polls and predictions We haven't been able to take payment You must update your payment details via My Account or by clicking update...\"\t0\n",
            "16\tduckduckgo\t\"who is most likely to win 2024 us election\"\t\"[RECORDING] Context and Meaning: Likely Outcomes of the 2024 US ... - Ipsos\"\thttps://www.ipsos.com/en-us/recording-context-and-meaning-likely-outcomes-2024-us-election\t\"5 February 2024. This presentation is a must for professionals in communications and marketing, public and government affairs, as well as policymakers and influencers, advocacy groups, and academics. 5 February 2024. After two contests, former President Donald Trump will mostlikelywin the Republican nomination which begs the question-Trump ...\"\t0\n",
            "17\tduckduckgo\t\"who is most likely to win 2024 us election\"\t\"US 2024 presidential election: Dates, candidates and latest issues\"\thttps://www.reuters.com/world/us/us-presidential-election-2024-dates-candidates-latest-issues-2023-09-22/\t\"US2024 presidential election: Dates, candidates and latest issues. By James Oliphant. February 2, 202410:19 AM PSTUpdated 3 hours ago. [1/6]U.S. President Joe Biden waves after arriving at ...\"\t0\n",
            "18\tduckduckgo\t\"who is most likely to win 2024 us election\"\t\"Explainer-What You Need to Know About the 2024 US Presidential Election\"\thttps://www.usnews.com/news/us/articles/2023-09-27/explainer-us-presidential-election-2024-what-you-need-to-know\t\"WASHINGTON (Reuters) -The 2024U.S. presidential election promises to be like no other in modern times. Leading the field of Republican presidential candidates is former President Donald Trump ...\"\t0\n",
            "19\tduckduckgo\t\"who is most likely to win 2024 us election\"\t\"2024 Elections: Latest news and polls - POLITICO\"\thttps://www.politico.com/news/2024-elections\t\"02/01/2024 10:26 PM EST. The Democrat in this month's closely watched New York special election for Congress has outraised and outspent his GOP opponent by a more than three-to-one margin in the ...\"\t0\n",
            "20\tduckduckgo\t\"who is most likely to win 2024 us election\"\t\"How a Trump conviction changes the 2024 race in our latest poll - NBC News\"\thttps://www.nbcnews.com/politics/2024-election/trump-conviction-changes-2024-race-latest-poll-rcna137087\t\"On the original ballot, Biden and Trump are tied 42%-42% among voters ages 18 to 34. But when these voters are asked about their ballot choice if Trump is convicted, they break for Biden by 15 ...\"\t0\n",
            "21\tduckduckgo\t\"who is most likely to win 2024 us election\"\t\"What Are The Odds?! Who is Shaping Up to Win the 2024 US ... - MSN\"\thttps://www.msn.com/en-us/news/politics/what-are-the-odds-who-is-shaping-up-to-win-the-2024-us-presidential-election/ss-AA1hGx8p\t\"1 / 19 What Are The Odds?! Who is Shaping Up to Win the 2024US Presidential Election? ©Provided by Dukes Avenue Just over a year away, on November 5, 2024, the US goes to the polls for...\"\t0\n",
            "22\tduckduckgo\t\"who is most likely to win 2024 us election\"\t\"Yes, Trump can win the 2024 election. Here are four reasons why\"\thttps://www.reuters.com/world/us/yes-trump-can-win-2024-election-here-are-four-reasons-why-2023-12-12/\t\"Here are four reasons why Trump could win the November 2024election against Democratic incumbent Joe Biden: UNHAPPY VOTERS The Biden White House argues the economy is in good shape, with...\"\t0\n",
            "23\tduckduckgo\t\"who is most likely to win 2024 us election\"\t\"2024 Isn't 2022 - The New York Times\"\thttps://www.nytimes.com/2024/02/02/briefing/2024-election.html\t\"Feb. 2, 2024, 6:51 a.m. ET. For the many Americans who are nervous about the polls showing that President Biden may lose to Donald Trump in November, there is one big source of comfort. Since ...\"\t0\n",
            "24\tduckduckgo\t\"who is most likely to win 2024 us election\"\t\"Man who correctly predicted US election winners since 1984 reveals who ...\"\thttps://www.news.com.au/world/north-america/man-who-correctly-predicted-us-election-winners-since-1984-reveals-who-is-likely-to-win-2024/news-story/af723bf6ef3da0887d982b5c33ae2775\t\"An election prognosticator who has correctly predicted nearly every US presidential race since 1984, has forecast the 2024 winner. Aubrie Spady and Joe Schoffstall - Fox News less than 2 min read\"\t0\n",
            "25\tduckduckgo\t\"who is most likely to win 2024 us election\"\t\"2024 Election Map Predicts Joe Biden Will Beat Trump by Even ... - MSN\"\thttps://www.msn.com/en-us/news/politics/2024-election-map-predicts-joe-biden-will-beat-trump-by-even-bigger-margin/ar-BB1hCoS1\t\"In the analysis, Biden won 308 electoral college votes, two more than he achieved in 2020, and 38 more than required for victory. However the margin in Georgia, North Carolina, Nevada and ...\"\t0\n",
            "26\tduckduckgo\t\"who is most likely to win 2024 us election\"\t\"Context and Meaning: Likely Outcomes of the 2024 US Election\"\thttps://www.ipsos.com/en-us/context-and-meaning-likely-outcomes-2024-us-election\t\"Context and Meaning: Likely Outcomes of the 2024USElection. 07 February 2024 9amPT/12pmET. After two contests, former President Donald Trump will mostlikelywin the Republican nomination which begs the question-Trump vs. President Biden-who will win? Join Ipsos' Clifford Young and Kyle Kondik, Managing Editor at Sabato's Crystal Ball ...\"\t0\n",
            "27\tduckduckgo\t\"who is most likely to win 2024 us election\"\t\"Election Map for 2024 Predicts Donald Trump Will Crush Joe Biden - Newsweek\"\thttps://www.newsweek.com/2025-election-biden-trump-polls-map-electoral-college-1851205\t\"New polling has suggested the Republican Party will win 301 Electoral College votes in the 2024 presidential election, far surpassing the 270 needed for the party's mostlikely candidate,...\"\t0\n",
            "28\tduckduckgo\t\"who is most likely to win 2024 us election\"\t\"What is Allan Lichtman's prediction for the 2024 US presidential election?\"\thttps://www.thenationalnews.com/world/the-americas/what-is-allan-lichtman-s-prediction-for-the-2024-us-presidential-election-1.1109868\t\"Allan Lichtman is already preparing to predict the next president. American University's distinguished professor of history, Alan Lichtman, shocked the world when he accurately predicted that Donald Trump would defeat Hillary Clinton in 2016. During a Zoom interview with The National, Prof Lichtman held up a note he received from Mr Trump in ...\"\t0\n",
            "29\tduckduckgo\t\"who is most likely to win 2024 us election\"\t\"Historian who correctly predicted almost every election winner since ...\"\thttps://news.yahoo.com/historian-correctly-predicted-almost-every-220538638.html\t\"The \"\"Keys to the White House\"\" are being handed out, predicting President Biden currently holds a slight lead in a hypothetical 2024 matchup against former President Donald Trump.. Allan Lichtman, an election prognosticator who has correctly predicted nearly every presidential race since 1984, developed a formula that is used to make predictions about an upcoming presidential election - and in ...\"\t0\n",
            "30\tduckduckgo\t\"who is most likely to win 2024 us election\"\t\"Who do you think will win the 2024 US presidential election?\"\thttps://www.reddit.com/r/PoliticalCompass/comments/16tohnp/who_do_you_think_will_win_the_2024_us/\t\"Polls relatively unreliable. Special elections swing dem. Both candidates are probably more hated now. Suburban shift dem, rural republican. Biden mostlikelywin by slightly more then before (gaining some in most his states with possible exceptions of Nevada and Wisconsin, maybe win NC).\"\t0\n",
            "31\tduckduckgo\t\"who is most likely to win 2024 us election\"\t\"Who will win the 2024 presidential election? : r/polls - Reddit\"\thttps://www.reddit.com/r/polls/comments/znvzq0/who_will_win_the_2024_presidential_election/\t\"FULL PROJECTION: Democrats will win the presidency. Thanks to all the theories you have given, they are very great. Democrats have 238 votes and 53.5%, just a few numbers shy of the 270 votes needed to win. Republicans have 207 and 46.5%, defeated by the candidates for Democratic nomination.\"\t0\n",
            "32\tduckduckgo\t\"who is most likely to win 2024 us election\"\t\"2024 House Election Interactive Map - 270toWin\"\thttps://www.270towin.com/2024-house-election/\t\"Winners will be sworn in to serve in the 119th Congress in early January, 2025. The Republican Party currently controls the U.S. House, where 218 seats are needed for a majority (when there are no vacancies). This 3-part map lets you view the current composition of the U.S. House and make a forecast for the 2024elections.\"\t0\n",
            "33\tduckduckgo\t\"who is most likely to win 2024 us election\"\t\"2024 Senate Election Interactive Map - 270toWin\"\thttps://www.270towin.com/2024-senate-election/\t\"34 U.S. Senate seats to be contested in 2024. The U.S. Senate has 51 Democrats (including three independents) and 49 Republicans. There are 34 seats up in 2024 - including a special election in Nebraska - of which 23 are held by Democrats or Independents. Republicans can retake control with a net gain of two seats or by winning the 2024 ...\"\t0\n",
            "34\tduckduckgo\t\"who is most likely to win 2024 us election\"\t\"BJP win in India's 2024 general election 'almost an inevitability'\"\thttps://www.theguardian.com/world/2023/dec/31/bjp-modi-india-general-election-2024\t\"As his Bharatiya Janata party (BJP) swept three major state elections in December, Modi did not hold back from predicting that \"\"this hat-trick has guaranteed the 2024 victory\"\". It was a sign ...\"\t0\n",
            "35\tduckduckgo\t\"who is most likely to win 2024 us election\"\t\"Man who correctly predicted US election winners since 1984 reveals who ...\"\thttps://www.cairnspost.com.au/news/world/man-who-correctly-predicted-us-election-winners-since-1984-reveals-who-is-likely-to-win-2024/news-story/af723bf6ef3da0887d982b5c33ae2775\t\"An election prognosticator who has correctly predicted nearly every US presidential race since 1984, has forecast the 2024 winner. Aubrie Spady and Joe Schoffstall - Fox News less than 2 min read\"\t0\n",
            "36\tduckduckgo\t\"who is most likely to win 2024 us election\"\t\"Who will win the next general election? The odds and polls\"\thttps://theweek.com/news/politics/960173/who-will-win-next-general-election-polls-odds\t\"The exact date of the electionis still not known, although Sunak has dampened speculation over a snap spring election, telling journalists last week that it will be in the second half of 2024.\"\t0\n",
            "37\tduckduckgo\t\"who is most likely to win 2024 us election\"\t\"Forecasting the 2024 Presidential Election: The Data Says … Who Knows ...\"\thttps://www.ncsl.org/resources/details/forecasting-the-2024-presidential-election-the-data-says-who-knows\t\"AUSTIN, Texas—No, Galen Druke can't simply gaze into a crystal ball to announce who will win the 2024 presidential election. But what the FiveThirtyEight host and podcaster can do is use data to give context to what may happen in what's shaping up to be a particularly contentious campaign season.. Speaking at the NCSL Forecast '24 meeting, the political analyst who also hosts ...\"\t0\n",
            "38\tduckduckgo\t\"who is most likely to win 2024 us election\"\t\"Who will win the 2024 presidential election? - MSN\"\thttps://www.msn.com/en-us/news/politics/who-will-win-the-2024-presidential-election/ar-AA1mO3go\t\"A Dec. 26 Morning Consult poll of 4,000 voters saw Biden and Trump tied with 42% of the vote each. This was consistent with a pair of YouGov/Economist polls on Jan. 2 and Jan. 9 that showed them ...\"\t0\n",
            "39\tduckduckgo\t\"who is most likely to win 2024 us election\"\t\"Can Trump win again? Why 2024 looks like 2016 - with key differences\"\thttps://www.usatoday.com/story/news/politics/2023/07/10/who-will-win-2024-election-odds/70383288007/\t\"2:09. WASHINGTON - For some, Donald Trump's campaign for the Republican presidential nomination in 2024is looking a lot like his victorious run in 2016 - and at the same time is totally ...\"\t0\n",
            "40\tduckduckgo\t\"who is most likely to win 2024 us election\"\t\"It's Election Day: Who Will Win? - U.S. News & World Report\"\thttps://www.usnews.com/news/elections/articles/2020-10-23/who-will-win-tracking-biden-and-trumps-chances-of-taking-the-presidency\t\"October 25. FiveThirtyEight.com: Biden 87/100 chances of winning; Trump 13/100. Economist: Biden 91% chance of winning; Trump 8%. Politico: 279 Biden Electoral College votes; 179 Trump Electoral ...\"\t0\n",
            "41\tduckduckgo\t\"who is most likely to win 2024 us election\"\t\"Allan Lichtman Prediction for 2024 Presidential Election\"\thttps://politicalpulse.net/us-politics/alan-lichtmans-prediction-for-2024/\t\"February 3, 2024. The 13 Keys to the White House, developed by Distinguished Professor of History Allan J. Lichtman at American University, is an analytical framework for predicting the outcome of American presidential elections. Unlike polls and poll-based projections, this model pays attention to the larger picture, the consequential events ...\"\t0\n",
            "42\tduckduckgo\t\"who is most likely to win 2024 us election\"\t\"2024 House Election Forecast Maps - 270toWin\"\thttps://www.270towin.com/2024-house-election-predictions/\t\"Elections Daily 2024 House Ratings. The current 2024 House ratings from Elections Daily, a site that provides nonpartisan election coverage. Note that North Carolina has no ratings as additional redistricting - not yet completed - is likelyto change boundaries for the 2024election. January 22: New Georgia shapes added after midcycle ...\"\t0\n",
            "43\tduckduckgo\t\"who is most likely to win 2024 us election\"\t\"Ranking the 2024 Republican presidential field | CNN Politics\"\thttps://www.cnn.com/2022/09/21/politics/2024-republican-presidential-rankings-trump-desantis/index.html\t\"Below are the 10 people mostlikelyto wind up as the Republican nominee for president in 2024. (My last rankings of the GOP field from June are here . And my latest 2024 Democratic presidential ...\"\t0\n",
            "44\tduckduckgo\t\"who is most likely to win 2024 us election\"\t\"GOP Rankings: The Republicans most likely to be the party's 2024 ...\"\thttps://thehill.com/homenews/campaign/3791812-gop-rankings-the-republicans-most-likely-to-be-the-partys-2024-presidential-nominee/\t\"Here are the people mostlikelyto top the GOP ticket. 1. Florida Gov. Ron DeSantis. Florida Gov. Ron DeSantis waves as he leaves a news conference at Bill Baggs Cape Florida State Park , Thursday ...\"\t0\n",
            "45\tduckduckgo\t\"who is most likely to win 2024 us election\"\t\"Who will win the 2024 US presidential election? - YouTube\"\thttps://www.youtube.com/watch?v=gqSrBDwn-HY\t\"Americans head to the polls in 2024to elect their next president - and history can teach us a lot about who might win. Planet America's John Barron explains...\"\t0\n",
            "46\tduckduckgo\t\"who is most likely to win 2024 us election\"\t\"US election 2024: A really simple guide - BBC\"\thttps://www.bbc.com/news/world-us-canada-67285325\t\"When is the next US presidential election? The 2024election will be on Tuesday, 5 November 2024. The winner will serve a term of four years in the White House starting in January 2025.\"\t0\n",
            "47\tduckduckgo\t\"who is most likely to win 2024 us election\"\t\"Who will win the 2024 general election? Here's what demographics tell ...\"\thttps://www.opendemocracy.net/en/uk-general-election-1983-2019-voters-data-demographics/\t\"Turnout among Muslim voters has been increasing, from 58% in 2001 to 77% in 2019. Their loyalty to Labour has also increased, from 61% in 2001 to 71% in 2019. Over the same time period, however ...\"\t0\n",
            "48\tduckduckgo\t\"who is most likely to win 2024 us election\"\t\"The 2024 Presidential Race: A Cheat Sheet - The Atlantic\"\thttps://www.theatlantic.com/ideas/archive/2024/01/tracking-democrat-republican-presidential-candidates-2024-election/673118/\t\"January 21, 2024. Sign up for The Decision, a newsletter featuring our 2024election coverage. No one alive has seen a race like the 2024 presidential election. For months, if not years, many ...\"\t0\n",
            "49\tduckduckgo\t\"who is most likely to win 2024 us election\"\t\"The eight Senate seats most likely to flip in 2024\"\thttps://thehill.com/homenews/campaign/3812648-the-eight-senate-seats-most-likely-to-flip-in-2024/\t\"Here are eight Senate seats mostlikelyto flip in 2024: Arizona Rep. Ruben Gallego (D-Ariz.) speaks during a House Armed Services Committee hearing on July 9, 2020, on Capitol Hill in Washington.\"\t0\n",
            "\n"
          ]
        }
      ]
    },
    {
      "cell_type": "code",
      "source": [
        "print(df.columns)\n",
        "text_column_name = \"article title\""
      ],
      "metadata": {
        "colab": {
          "base_uri": "https://localhost:8080/"
        },
        "id": "f09kYdhDBMlK",
        "outputId": "ccb82b20-1914-4295-bc0d-d24fa02bc9f2"
      },
      "execution_count": null,
      "outputs": [
        {
          "output_type": "stream",
          "name": "stdout",
          "text": [
            "Index(['result #', 'search engine', 'query', 'article title', 'article url',\n",
            "       'article description', 'total nr of results (best guess)',\n",
            "       'combined_tokenized_text'],\n",
            "      dtype='object')\n"
          ]
        }
      ]
    },
    {
      "cell_type": "code",
      "source": [
        "nltk.download('punkt')\n",
        "\n",
        "\n",
        "df = pd.read_csv('duck_mostlikely.csv', sep='\\t', error_bad_lines=False)\n",
        "\n",
        "\n"
      ],
      "metadata": {
        "colab": {
          "base_uri": "https://localhost:8080/"
        },
        "id": "LlcmKrrl99N1",
        "outputId": "92b05ab5-329e-414c-f8c1-2a0e4dbbf0d9"
      },
      "execution_count": null,
      "outputs": [
        {
          "output_type": "stream",
          "name": "stderr",
          "text": [
            "[nltk_data] Downloading package punkt to /root/nltk_data...\n",
            "[nltk_data]   Package punkt is already up-to-date!\n",
            "<ipython-input-88-4954d2133777>:4: FutureWarning: The error_bad_lines argument has been deprecated and will be removed in a future version. Use on_bad_lines in the future.\n",
            "\n",
            "\n",
            "  df = pd.read_csv('duck_mostlikely.csv', sep='\\t', error_bad_lines=False)\n"
          ]
        }
      ]
    },
    {
      "cell_type": "code",
      "source": [
        "# tokenize the text under \"article title\" and \"article description\" and save it as .txt for further analysis\n",
        "tokenized_text_column1 = \"article title\"\n",
        "tokenized_text_column2 = \"article description\"\n",
        "\n",
        "\n",
        "df['combined_tokenized_text'] = df[tokenized_text_column1].astype(str) + ' ' + df[tokenized_text_column2].astype(str)\n",
        "\n",
        "\n",
        "all_text = ' '.join(df['combined_tokenized_text'])\n",
        "\n",
        "\n",
        "file_path = 'duck_mostlikely.txt'\n",
        "\n",
        "\n",
        "with open(file_path, 'w') as file:\n",
        "    file.write(all_text)\n",
        "\n",
        "\n",
        "from google.colab import files\n",
        "files.download(file_path)\n"
      ],
      "metadata": {
        "colab": {
          "base_uri": "https://localhost:8080/",
          "height": 17
        },
        "id": "Bf-67gcnFA8f",
        "outputId": "f3e399b7-d2c9-4ea2-e4d6-30f8dd8a1152"
      },
      "execution_count": null,
      "outputs": [
        {
          "output_type": "display_data",
          "data": {
            "text/plain": [
              "<IPython.core.display.Javascript object>"
            ],
            "application/javascript": [
              "\n",
              "    async function download(id, filename, size) {\n",
              "      if (!google.colab.kernel.accessAllowed) {\n",
              "        return;\n",
              "      }\n",
              "      const div = document.createElement('div');\n",
              "      const label = document.createElement('label');\n",
              "      label.textContent = `Downloading \"${filename}\": `;\n",
              "      div.appendChild(label);\n",
              "      const progress = document.createElement('progress');\n",
              "      progress.max = size;\n",
              "      div.appendChild(progress);\n",
              "      document.body.appendChild(div);\n",
              "\n",
              "      const buffers = [];\n",
              "      let downloaded = 0;\n",
              "\n",
              "      const channel = await google.colab.kernel.comms.open(id);\n",
              "      // Send a message to notify the kernel that we're ready.\n",
              "      channel.send({})\n",
              "\n",
              "      for await (const message of channel.messages) {\n",
              "        // Send a message to notify the kernel that we're ready.\n",
              "        channel.send({})\n",
              "        if (message.buffers) {\n",
              "          for (const buffer of message.buffers) {\n",
              "            buffers.push(buffer);\n",
              "            downloaded += buffer.byteLength;\n",
              "            progress.value = downloaded;\n",
              "          }\n",
              "        }\n",
              "      }\n",
              "      const blob = new Blob(buffers, {type: 'application/binary'});\n",
              "      const a = document.createElement('a');\n",
              "      a.href = window.URL.createObjectURL(blob);\n",
              "      a.download = filename;\n",
              "      div.appendChild(a);\n",
              "      a.click();\n",
              "      div.remove();\n",
              "    }\n",
              "  "
            ]
          },
          "metadata": {}
        },
        {
          "output_type": "display_data",
          "data": {
            "text/plain": [
              "<IPython.core.display.Javascript object>"
            ],
            "application/javascript": [
              "download(\"download_b823a969-8dc2-4cbf-8a6b-96050c86903e\", \"duck_mostlikely.txt\", 15278)"
            ]
          },
          "metadata": {}
        }
      ]
    }
  ]
}